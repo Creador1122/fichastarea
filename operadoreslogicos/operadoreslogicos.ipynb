{
  "nbformat": 4,
  "nbformat_minor": 0,
  "metadata": {
    "colab": {
      "provenance": []
    },
    "kernelspec": {
      "name": "python3",
      "display_name": "Python 3"
    },
    "language_info": {
      "name": "python"
    }
  },
  "cells": [
    {
      "cell_type": "markdown",
      "source": [
        "#3. Operadores Lógicos\n",
        "\n",
        "# Qué es: Los operadores lógicos permiten combinar valores booleanos (True/False) para realizar evaluaciones condicionales y tomar decisiones en el código.\n",
        "\n",
        "# Para qué se usa: Se utilizan principalmente junto con expresiones condicionales como tambien las extuccturas se le indica para que sea (True/False).\n",
        "\n",
        "#Aqui esta el audio de los ejercicios [Audio](https://creador1122.github.io/fichastarea/operadoreslogicos/Operadoreslogicos.mp3)\n"
      ],
      "metadata": {
        "id": "jYMVH0g71806"
      }
    },
    {
      "cell_type": "code",
      "execution_count": null,
      "metadata": {
        "id": "mRAp1WPt17Uf",
        "colab": {
          "base_uri": "https://localhost:8080/"
        },
        "outputId": "0692efae-ea65-45dd-b1e6-268bf59be4b6"
      },
      "outputs": [
        {
          "output_type": "stream",
          "name": "stdout",
          "text": [
            "Puede navegar: True\n",
            "Necesita atención: True\n",
            "Sin actualizaciones: True\n",
            "Funciona bien: False\n",
            "Puede jugar: False\n"
          ]
        }
      ],
      "source": [
        "# Definimos variables booleanas\n",
        "internet = True\n",
        "encendido = True\n",
        "actualizar = False\n",
        "batbaja = True\n",
        "ahorro = False\n",
        "\n",
        "# Operador AND: necesita que ambas condiciones sean True\n",
        "navegar = internet and encendido  # True, porque ambas son True\n",
        "print(\"Puede navegar:\", navegar)\n",
        "\n",
        "# Operador OR: necesita que al menos una sea True\n",
        "alerta = actualizar or batbaja  # True, porque batbaja es True\n",
        "print(\"Necesita atención:\", alerta)\n",
        "\n",
        "# Operador NOT: invierte el valor booleano\n",
        "noactualizar = not actualizar  # True, porque actualizar es False\n",
        "print(\"Sin actualizaciones:\", noactualizar)\n",
        "\n",
        "# Combinando operadores\n",
        "funciona = internet and encendido and (not batbaja)  # False\n",
        "print(\"Funciona bien:\", funciona)\n",
        "\n",
        "# Ejemplo adicional\n",
        "jugar = encendido and (not batbaja)  # False\n",
        "print(\"Puede jugar:\", jugar)"
      ]
    }
  ]
}