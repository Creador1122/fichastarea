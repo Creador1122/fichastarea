{
  "nbformat": 4,
  "nbformat_minor": 0,
  "metadata": {
    "colab": {
      "provenance": []
    },
    "kernelspec": {
      "name": "python3",
      "display_name": "Python 3"
    },
    "language_info": {
      "name": "python"
    }
  },
  "cells": [
    {
      "cell_type": "markdown",
      "source": [
        "# 4. Ciclo For\n",
        "\n",
        "# Qué es: El ciclo for es una estructura de control que permite repetir un bloque de código un número determinado de veces, generalmente iterando sobre una secuencia de elementos.\n",
        "\n",
        "# Para qué se usa: Se utiliza cuando conocemos cuántas veces queremos repetir el código o queremos procesar cada elemento de una colección.\n",
        "\n",
        "# Aqui esta el audio del video [Audio](https://creador1122.github.io/fichastarea/for/for.mp3)"
      ],
      "metadata": {
        "id": "noC-pLxG3hFG"
      }
    },
    {
      "cell_type": "code",
      "execution_count": null,
      "metadata": {
        "colab": {
          "base_uri": "https://localhost:8080/"
        },
        "id": "8q9fpeHp3cWt",
        "outputId": "edfca1a7-7185-49f1-ab05-4c48d13f8c6d"
      },
      "outputs": [
        {
          "output_type": "stream",
          "name": "stdout",
          "text": [
            "Contando del 1 al 5:\n",
            "1\n",
            "2\n",
            "3\n",
            "4\n",
            "5\n",
            "\n",
            "Lista de frutas:\n",
            "manzana\n",
            "banana\n",
            "cereza\n"
          ]
        }
      ],
      "source": [
        "# Ejemplo 1: Iterar por un rango de números\n",
        "print(\"Contando del 1 al 5:\")\n",
        "for i in range(1, 6):  # range(1, 6) genera los números del 1 al 5\n",
        "    print(i)           # Imprime cada número en una línea separada\n",
        "\n",
        "# Ejemplo 2: Iterar sobre una lista\n",
        "frutas = [\"manzana\", \"banana\", \"cereza\"]  # Creamos una lista de frutas\n",
        "print(\"\\nLista de frutas:\")\n",
        "for fruta in frutas:    # Para cada elemento en la lista frutas\n",
        "    print(fruta)        # Imprimimos el elemento actual\n",
        "\n"
      ]
    }
  ]
}