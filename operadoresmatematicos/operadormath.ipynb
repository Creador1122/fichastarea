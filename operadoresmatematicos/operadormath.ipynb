{
  "nbformat": 4,
  "nbformat_minor": 0,
  "metadata": {
    "colab": {
      "provenance": []
    },
    "kernelspec": {
      "name": "python3",
      "display_name": "Python 3"
    },
    "language_info": {
      "name": "python"
    }
  },
  "cells": [
    {
      "cell_type": "markdown",
      "source": [
        "# 2. Operadores Math\n",
        "\n",
        "# Qué es: Los operadores matemáticos son símbolos que permiten realizar operaciones aritméticas entre variables o valores.\n",
        "# Para qué se usa: Se colocan entre los valores o variables sobre los que queremos operar para realizar cálculos.\n",
        "\n",
        "#Aqui esta el Link del audio\n",
        "\n",
        "[Audio](https://creador1122.github.io/fichastarea/operadoresmatematicos/operadoresmatematicos.mp3)"
      ],
      "metadata": {
        "id": "PlSd4z8Mywvz"
      }
    },
    {
      "cell_type": "code",
      "execution_count": null,
      "metadata": {
        "colab": {
          "base_uri": "https://localhost:8080/"
        },
        "id": "9m0v7UPxyu4m",
        "outputId": "301486da-8840-408b-c6fa-ebff9bc96fbc"
      },
      "outputs": [
        {
          "output_type": "stream",
          "name": "stdout",
          "text": [
            "Suma: 9\n",
            "Resta: -5\n",
            "Multiplicación: 14\n",
            "División: 0.2857142857142857\n",
            "División entera: 3\n",
            "Módulo: 1\n",
            "Potencia: 1000\n"
          ]
        }
      ],
      "source": [
        "# Definimos algunas variables para trabajar\n",
        "a = 2\n",
        "b = 7\n",
        "\n",
        "# Operadores matemáticos básicos\n",
        "\n",
        "suma = a + b        # Suma: 2+7 =9\n",
        "resta = a - b       # Resta: 2-7 =-5\n",
        "mult = a * b        # Multiplicación: 2*7 = 14\n",
        "div = a / b         # División: 2 / 7 = 0.2857142857142857\n",
        "\n",
        "# cambiamos las variables\n",
        "a = 10\n",
        "b = 3\n",
        "diventera = a // b # División entera: 10 // 3 = 3 (parte entera)\n",
        "\n",
        "modulo = a % b      # Módulo (resto): 10 % 3 = 2 (resto de dividir 10 entre 3)\n",
        "potencia = a ** b   # Potencia: 10 elevado a 3 = 1000\n",
        "\n",
        "# Mostramos los resultados para verificar la respuesta de las operaciones realizadas\n",
        "\n",
        "print(\"Suma:\", suma)                # Imprime el resultado de la suma\n",
        "print(\"Resta:\", resta)              # Imprime el resultado de la resta\n",
        "print(\"Multiplicación:\", mult)      # Imprime el resultado de la multiplicación\n",
        "print(\"División:\", div)             # Imprime el resultado de la división\n",
        "print(\"División entera:\", diventera) # Imprime el resultado de la división entera\n",
        "print(\"Módulo:\", modulo)           # Imprime el resto de la división\n",
        "print(\"Potencia:\", potencia)       # Imprime el resultado de la potencia"
      ]
    }
  ]
}