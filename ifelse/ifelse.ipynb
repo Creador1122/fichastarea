{
  "nbformat": 4,
  "nbformat_minor": 0,
  "metadata": {
    "colab": {
      "provenance": []
    },
    "kernelspec": {
      "name": "python3",
      "display_name": "Python 3"
    },
    "language_info": {
      "name": "python"
    }
  },
  "cells": [
    {
      "cell_type": "markdown",
      "source": [
        "# 5. if/else\n",
        "\n",
        "# Qué es: Son estructuras de control condicional que permiten ejecutar diferentes bloques de código según se cumplan o no determinadas condiciones.\n",
        "\n",
        "# Para qué se usa: Se utilizan para tomar decisiones en el programa y crear flujos de ejecución alternativos.\n",
        "\n",
        "# Aqui esta el audio de las condicionales [Audio](https://creador1122.github.io/fichastarea/ifelse/ifelse.mp3)"
      ],
      "metadata": {
        "id": "-eIG55754eSO"
      }
    },
    {
      "cell_type": "code",
      "execution_count": null,
      "metadata": {
        "id": "OvLAKlmk4RXL",
        "colab": {
          "base_uri": "https://localhost:8080/"
        },
        "outputId": "3889b3a2-af6f-43fe-d5b0-ef9f54d6da96"
      },
      "outputs": [
        {
          "output_type": "stream",
          "name": "stdout",
          "text": [
            "Nivel de batería adecuado\n",
            "Usando conexión WiFi\n"
          ]
        }
      ],
      "source": [
        "# Verificamos el porcentaje de batería (simulado)\n",
        "\n",
        "bateria = 45  # Aquí podríamos usar una función real para obtener la batería\n",
        "\n",
        "# Estructura if-elif-else para clasificar niveles de batería\n",
        "\n",
        "\n",
        "if bateria < 15:                           # Si la batería es menor al 15%\n",
        "    print(\"Batería crítica, conecte el cargador\")  # Se ejecuta este bloque\n",
        "\n",
        "\n",
        "elif bateria < 30:                         # Si la batería está entre 15% y 29%\n",
        "    print(\"Batería baja\")                 # Se ejecuta este bloque\n",
        "\n",
        "\n",
        "elif bateria < 70:                         # Si la batería está entre 30% y 69%\n",
        "    print(\"Nivel de batería adecuado\")    # Se ejecuta este bloque\n",
        "\n",
        "\n",
        "else:                                     # Si la batería es 70% o superior\n",
        "    print(\"Batería alta\")                 # Se ejecuta este bloque\n",
        "\n",
        "# Verificación de conexiones del dispositivo\n",
        "wificonectado = True\n",
        "datosmoviles = False\n",
        "\n",
        "if wificonectado:                        # Si el WiFi está conectado\n",
        "    print(\"Usando conexión WiFi\")\n",
        "\n",
        "            # Se ejecuta este bloque\n",
        "else:                                     # Si el WiFi no está conectado\n",
        "    if datosmoviles:\n",
        "                 # Verificamos si hay datos móviles\n",
        "        print(\"Usando datos móviles\")\n",
        "            # Se ejecuta si hay datos móviles\n",
        "    else:                                 # Si no hay ni WiFi ni datos\n",
        "        print(\"Sin conexión a internet\")  # Se ejecuta este bloque"
      ]
    }
  ]
}