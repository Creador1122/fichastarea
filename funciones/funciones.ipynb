{
  "nbformat": 4,
  "nbformat_minor": 0,
  "metadata": {
    "colab": {
      "provenance": []
    },
    "kernelspec": {
      "name": "python3",
      "display_name": "Python 3"
    },
    "language_info": {
      "name": "python"
    }
  },
  "cells": [
    {
      "cell_type": "markdown",
      "source": [
        "# 6. Funciones\n",
        "\n",
        "# Qué es: Las funciones son bloques de código que se pueden reutilizar para realizar una tarea específica. Los parámetros son valores que se pasan a la función para que trabaje con ellos.\n",
        "\n",
        "# Como se usan: Se definen con la palabra clave def, seguida del nombre de la función y paréntesis que pueden contener parámetros. Se llaman escribiendo el nombre de la función seguido de paréntesis.\n",
        "\n",
        "# Aqui esta el audio [Audio](https://creador1122.github.io/fichastarea/funciones/funciones.mp3)"
      ],
      "metadata": {
        "id": "NIOvIpn_5LNm"
      }
    },
    {
      "cell_type": "code",
      "execution_count": 1,
      "metadata": {
        "id": "-lnR_3nD4_ma"
      },
      "outputs": [],
      "source": [
        "# Función para preparar cafe nos servie para realizar un ejemplo de una funcion que no retorna\n",
        "def prepararcafe(cucharadas):\n",
        "   #Vamos a simular la preparacion de un cafe\n",
        "\n",
        "    print(f\"Añadiendo {cucharadas} cucharadas de cafe\")  #Se imprime el mesaje\n",
        "    print(\"Calentando agua\")\n",
        "    print(\"Vertiendo agua caliente sobre el cafe\")\n",
        "    print(\"Café listo para servir\")\n",
        "\n"
      ]
    },
    {
      "cell_type": "code",
      "source": [
        "# Llamada a la función con 2 cucharadas\n",
        "print(\"Preparando café para el desayuno:\")\n",
        "prepararcafe(2)"
      ],
      "metadata": {
        "colab": {
          "base_uri": "https://localhost:8080/"
        },
        "id": "zNTYWxHiE-lY",
        "outputId": "7137826f-5768-43cb-d32f-15f470439271"
      },
      "execution_count": null,
      "outputs": [
        {
          "output_type": "stream",
          "name": "stdout",
          "text": [
            "Preparando café para el desayuno:\n",
            "Añadiendo 2 cucharadas de cafe\n",
            "Calentando agua\n",
            "Vertiendo agua caliente sobre el cafe\n",
            "Café listo para servir\n"
          ]
        }
      ]
    },
    {
      "cell_type": "code",
      "source": [
        "def calcularh(porciones):\n",
        "    # Vamos a calcular la cantidad de harina necesaria para eso lo realizamos en la función para retornar un valor\n",
        "    gramosp = 50                            # Cada porción necesita 50g\n",
        "    totalg = porciones * gramosp      # Cálculo total\n",
        "    return totalg            # Retornamos total_gramos\n",
        "\n"
      ],
      "metadata": {
        "id": "Dignm8F5DEwx"
      },
      "execution_count": null,
      "outputs": []
    },
    {
      "cell_type": "code",
      "source": [
        "cantidadh = calcularh(4)                   # Para 4 porciones\n",
        "print(f\"\\nPara hacer 4 porciones de galletas necesitas {cantidadh}g de harina\")"
      ],
      "metadata": {
        "colab": {
          "base_uri": "https://localhost:8080/"
        },
        "id": "hDGIU8zWCtTC",
        "outputId": "03072bce-0cf2-4715-fd63-1950e5933a66"
      },
      "execution_count": null,
      "outputs": [
        {
          "output_type": "stream",
          "name": "stdout",
          "text": [
            "\n",
            "Para hacer 4 porciones de galletas necesitas 200g de harina\n"
          ]
        }
      ]
    }
  ]
}