{
  "nbformat": 4,
  "nbformat_minor": 0,
  "metadata": {
    "colab": {
      "provenance": []
    },
    "kernelspec": {
      "name": "python3",
      "display_name": "Python 3"
    },
    "language_info": {
      "name": "python"
    }
  },
  "cells": [
    {
      "cell_type": "markdown",
      "source": [
        "# 1. VARIABLES\n",
        "# Qué es: Espacios en memoria para almacenar valores\n",
        "# Para qué se usa: Para guardar y manipular información durante la ejecución del programa, No es necesario declarar el tipo de variable previamente, ya que Python detecta automáticamente el tipo según el valor asignado.\n",
        "\n",
        "[Audio de tema](https://creador1122.github.io/fichastarea/variables/variable.mp3)"
      ],
      "metadata": {
        "id": "0xLIfAYqvGnh"
      }
    },
    {
      "cell_type": "code",
      "execution_count": null,
      "metadata": {
        "colab": {
          "base_uri": "https://localhost:8080/"
        },
        "id": "Bfuq8JDXqtw2",
        "outputId": "07a2531f-9670-4198-9e41-7c94e08504ec"
      },
      "outputs": [
        {
          "output_type": "stream",
          "name": "stdout",
          "text": [
            "Nombre: Carlos\n",
            "Tipo: <class 'str'>\n",
            "Edad: 28\n",
            "Tipo: <class 'int'>\n",
            "Altura: 1.7\n",
            "Tipo: <class 'float'>\n",
            "Estudiante: True\n",
            "Tipo: <class 'bool'>\n",
            "Nueva edad: 29\n"
          ]
        }
      ],
      "source": [
        "# Creamos diferentes tipos de variables para tener todos los ejemplos\n",
        "\n",
        "nombre = \"Carlos\"            # Variable de tipo string (texto)\n",
        "edad = 28                    # Variable de tipo int (entero)\n",
        "altura = 1.70                # Variable de tipo float (decimal)\n",
        "estudiante = True         # Variable de tipo boolean (booleano)\n",
        "\n",
        "# Mostramos los valores y tipos de las variables, En esta caso se recomienda tener en cuenta el tipo de varible que nececitamos\n",
        "\n",
        "print(\"Nombre:\", nombre)     # Imprime el valor de la variable nombre\n",
        "print(\"Tipo:\", type(nombre)) # Muestra que es de tipo str (string)\n",
        "\n",
        "print(\"Edad:\", edad)         # Imprime el valor de la variable edad\n",
        "print(\"Tipo:\", type(edad))   # Muestra que es de tipo int (entero)\n",
        "\n",
        "print(\"Altura:\", altura)     # Imprime el valor de la variable altura\n",
        "print(\"Tipo:\", type(altura)) # Muestra que es de tipo float (decimal)\n",
        "\n",
        "print(\"Estudiante:\", estudiante)     # Imprime el valor de la variable altura\n",
        "print(\"Tipo:\", type(estudiante)) # Muestra que es de tipo float (decimal)\n",
        "\n",
        "# Podemos cambiar el valor de una variable en cualquier momento cuando la necesitemos\n",
        "\n",
        "edad = 29                   # La variable edad ahora tiene el valor 29\n",
        "print(\"Nueva edad:\", edad)   # Imprime el nuevo valor de edad"
      ]
    }
  ]
}